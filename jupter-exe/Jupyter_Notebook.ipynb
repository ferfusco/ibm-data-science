{
  "cells": [
    {
      "cell_type": "markdown",
      "metadata": {},
      "source": [
        "<center>\n",
        "    <img src=\"https://s3-api.us-geo.objectstorage.softlayer.net/cf-courses-data/CognitiveClass/Logos/organization_logo/organization_logo.png\" width=\"300\" alt=\"cognitiveclass.ai logo\"  />\n",
        "</center>\n"
      ]
    },
    {
      "cell_type": "markdown",
      "metadata": {},
      "source": [
        "#### Add your code below following the instructions given in the course\n"
      ]
    },
    {
      "cell_type": "markdown",
      "metadata": {},
      "source": [
        "# My Jupyter Notebook on Skill Network LTI"
      ]
    },
    {
      "cell_type": "markdown",
      "metadata": {},
      "source": [
        "<b> Fernanda Fusco </b>\n",
        "<br>\n",
        "Software Test Analyst"
      ]
    },
    {
      "cell_type": "markdown",
      "metadata": {},
      "source": [
        "<i> I am interested in studying data science because I find easy to work with information and I love to tell stories using large amounts of data. In addition, data science is a profession that is in great growth in my country, Brazil. <i>"
      ]
    },
    {
      "cell_type": "markdown",
      "metadata": {},
      "source": [
        "### A Python program to returns sum of all divisors of a number"
      ]
    },
    {
      "cell_type": "code",
      "execution_count": 4,
      "metadata": {
        "trusted": true
      },
      "outputs": [
        {
          "name": "stdout",
          "output_type": "stream",
          "text": [
            "7\n",
            "16\n"
          ]
        }
      ],
      "source": [
        "def sum_div(number):\n",
        "    divisors = [1]\n",
        "    for i in range(2, number):\n",
        "        if (number % i)==0:\n",
        "            divisors.append(i)\n",
        "    return sum(divisors)\n",
        "print(sum_div(8))\n",
        "print(sum_div(12))"
      ]
    },
    {
      "cell_type": "markdown",
      "metadata": {},
      "source": [
        "[List of Numbers Generator](https://pinetools.com/generate-list-numbers)\n",
        "![PrintScreen](generator.jpg)\n",
        "1. First select First number\n",
        "2. Now select Last number\n",
        "3. Click in Generate!"
      ]
    }
  ],
  "metadata": {
    "kernelspec": {
      "display_name": "Pyolite",
      "language": "python",
      "name": "python"
    },
    "language_info": {
      "codemirror_mode": {
        "name": "python",
        "version": 3
      },
      "file_extension": ".py",
      "mimetype": "text/x-python",
      "name": "python",
      "nbconvert_exporter": "python",
      "pygments_lexer": "ipython3",
      "version": "3.8"
    }
  },
  "nbformat": 4,
  "nbformat_minor": 4
}
